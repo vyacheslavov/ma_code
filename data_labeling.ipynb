{
 "cells": [
  {
   "cell_type": "markdown",
   "metadata": {},
   "source": [
    "# Import libraries"
   ]
  },
  {
   "cell_type": "code",
   "execution_count": 19,
   "metadata": {},
   "outputs": [
    {
     "name": "stdout",
     "output_type": "stream",
     "text": [
      "[nltk_data] Downloading package averaged_perceptron_tagger to\n",
      "[nltk_data]     /home/tie-server/nltk_data...\n",
      "[nltk_data]   Package averaged_perceptron_tagger is already up-to-\n",
      "[nltk_data]       date!\n",
      "[nltk_data] Downloading package punkt to /home/tie-server/nltk_data...\n",
      "[nltk_data]   Package punkt is already up-to-date!\n",
      "[nltk_data] Downloading package stopwords to /home/tie-\n",
      "[nltk_data]     server/nltk_data...\n",
      "[nltk_data]   Package stopwords is already up-to-date!\n"
     ]
    },
    {
     "data": {
      "text/plain": [
       "True"
      ]
     },
     "execution_count": 19,
     "metadata": {},
     "output_type": "execute_result"
    }
   ],
   "source": [
    "import pandas as pd\n",
    "import numpy as np\n",
    "import os\n",
    "import json\n",
    "from os import listdir\n",
    "import re\n",
    "import sys\n",
    "import ast\n",
    "import nltk\n",
    "from nltk.tokenize import word_tokenize, sent_tokenize\n",
    "import string\n",
    "import pickle\n",
    "import datetime\n",
    "\n",
    "nltk.download('averaged_perceptron_tagger')\n",
    "nltk.download('punkt')\n",
    "nltk.download('stopwords')"
   ]
  },
  {
   "cell_type": "markdown",
   "metadata": {},
   "source": [
    "# Change path to dataset here"
   ]
  },
  {
   "cell_type": "code",
   "execution_count": 20,
   "metadata": {},
   "outputs": [],
   "source": [
    "basedir = os.path.join(os.sep, \"media\", \"tie-server\", \"DATA\", \"Jens\", \"Crunchbase\")\n",
    "tempdir = os.getcwd()\n",
    "#tempdir = basedir"
   ]
  },
  {
   "cell_type": "markdown",
   "metadata": {},
   "source": [
    "# Import dataset"
   ]
  },
  {
   "cell_type": "code",
   "execution_count": 22,
   "metadata": {},
   "outputs": [],
   "source": [
    "with open (os.path.join(basedir, 'temp_data', 'articles_df'), 'rb') as fp:\n",
    "    articles_df = pickle.load(fp)"
   ]
  },
  {
   "cell_type": "code",
   "execution_count": 39,
   "metadata": {},
   "outputs": [
    {
     "name": "stdout",
     "output_type": "stream",
     "text": [
      "59535\n"
     ]
    },
    {
     "data": {
      "text/html": [
       "<div>\n",
       "<style scoped>\n",
       "    .dataframe tbody tr th:only-of-type {\n",
       "        vertical-align: middle;\n",
       "    }\n",
       "\n",
       "    .dataframe tbody tr th {\n",
       "        vertical-align: top;\n",
       "    }\n",
       "\n",
       "    .dataframe thead th {\n",
       "        text-align: right;\n",
       "    }\n",
       "</style>\n",
       "<table border=\"1\" class=\"dataframe\">\n",
       "  <thead>\n",
       "    <tr style=\"text-align: right;\">\n",
       "      <th></th>\n",
       "      <th>company</th>\n",
       "      <th>full_text</th>\n",
       "      <th>paragraphs</th>\n",
       "      <th>label</th>\n",
       "    </tr>\n",
       "  </thead>\n",
       "  <tbody>\n",
       "    <tr>\n",
       "      <th>0</th>\n",
       "      <td>brightline</td>\n",
       "      <td>plus company updates(pcu)\\n\\n                 ...</td>\n",
       "      <td>new york: following is the company profile of...</td>\n",
       "      <td>NaN</td>\n",
       "    </tr>\n",
       "    <tr>\n",
       "      <th>1</th>\n",
       "      <td>brightline</td>\n",
       "      <td>plus company updates(pcu)\\n\\n                 ...</td>\n",
       "      <td>\"media agencies, creative agencies and publi...</td>\n",
       "      <td>NaN</td>\n",
       "    </tr>\n",
       "    <tr>\n",
       "      <th>2</th>\n",
       "      <td>brightline</td>\n",
       "      <td>m2 equitybites\\n\\n                            ...</td>\n",
       "      <td>brightline is the market leader for advanced t...</td>\n",
       "      <td>NaN</td>\n",
       "    </tr>\n",
       "    <tr>\n",
       "      <th>3</th>\n",
       "      <td>brightline</td>\n",
       "      <td>plus company updates(pcu)\\n\\n                 ...</td>\n",
       "      <td>austin: sizmek inc. has issued the following ...</td>\n",
       "      <td>NaN</td>\n",
       "    </tr>\n",
       "    <tr>\n",
       "      <th>4</th>\n",
       "      <td>brightline</td>\n",
       "      <td>broadcasting and cable\\n\\n                    ...</td>\n",
       "      <td>naylor said the majority of hulu's viewing now...</td>\n",
       "      <td>NaN</td>\n",
       "    </tr>\n",
       "  </tbody>\n",
       "</table>\n",
       "</div>"
      ],
      "text/plain": [
       "      company                                          full_text  \\\n",
       "0  brightline  plus company updates(pcu)\\n\\n                 ...   \n",
       "1  brightline  plus company updates(pcu)\\n\\n                 ...   \n",
       "2  brightline  m2 equitybites\\n\\n                            ...   \n",
       "3  brightline  plus company updates(pcu)\\n\\n                 ...   \n",
       "4  brightline  broadcasting and cable\\n\\n                    ...   \n",
       "\n",
       "                                          paragraphs  label  \n",
       "0   new york: following is the company profile of...    NaN  \n",
       "1    \"media agencies, creative agencies and publi...    NaN  \n",
       "2  brightline is the market leader for advanced t...    NaN  \n",
       "3   austin: sizmek inc. has issued the following ...    NaN  \n",
       "4  naylor said the majority of hulu's viewing now...    NaN  "
      ]
     },
     "execution_count": 39,
     "metadata": {},
     "output_type": "execute_result"
    }
   ],
   "source": [
    "#articles_df.loc[:, \"ids\"] = [str(row[\"company\"] + str(i)) for i, row in articles_df.iterrows()] \n",
    "articles_df.loc[:, \"label\"] = np.NaN\n",
    "print(len(articles_df))\n",
    "articles_df.head()"
   ]
  },
  {
   "cell_type": "markdown",
   "metadata": {},
   "source": [
    "# Initialize a randomizer for our sample"
   ]
  },
  {
   "cell_type": "code",
   "execution_count": 42,
   "metadata": {},
   "outputs": [],
   "source": [
    "import random\n",
    "random.seed(130)\n",
    "sample_ids = random.sample(list(articles_df.index), 200)"
   ]
  },
  {
   "cell_type": "markdown",
   "metadata": {},
   "source": [
    "# The labelled data is having the following ids:"
   ]
  },
  {
   "cell_type": "code",
   "execution_count": 43,
   "metadata": {},
   "outputs": [
    {
     "name": "stdout",
     "output_type": "stream",
     "text": [
      "200\n"
     ]
    }
   ],
   "source": [
    "sample_ids_previous_sample = [5739, 949, 4425, 44820, 27899, 15983, 45289, 44438, 52763, 29693, 21203, 18728, 56765, 17490, 15750, 46752, 57532, 59063, 58417, 53887, 53811, 53189, 53039, 58913, 52134, 50769, 50755, 57612, 49925, 49813, 49812, 59025, 49811, 49205, 59321, 49170, 53938, 50198, 53999, 54637, 57648, 57672, 57388, 57190, 57050, 56856, 58155, 58280, 56052, 56051, 56050, 58300, 56049, 48174, 55875, 55102, 55069, 58416, 55036, 54372, 55876, 44686, 45365, 19863, 19671, 17916, 17915, 17889, 17848, 17653, 14639, 12766, 19957, 12620, 9962, 9503, 9502, 8868, 8830, 7904, 6222, 4722, 1951, 12202, 23894, 23930, 26410, 45197, 59441, 44159, 43445, 42518, 42061, 40398, 40397, 40002, 36959, 36895, 32870, 30814, 30224, 29501, 29245, 29244, 28891, 28773, 27145, 26604, 45758, 59526]\n",
    "sample_ids = [i for i in sample_ids if i not in sample_ids_previous_sample]\n",
    "print(len(sample_ids))"
   ]
  },
  {
   "cell_type": "markdown",
   "metadata": {},
   "source": [
    "# Export sample for labelling"
   ]
  },
  {
   "cell_type": "code",
   "execution_count": 44,
   "metadata": {},
   "outputs": [
    {
     "name": "stdout",
     "output_type": "stream",
     "text": [
      "200\n"
     ]
    },
    {
     "data": {
      "text/html": [
       "<div>\n",
       "<style scoped>\n",
       "    .dataframe tbody tr th:only-of-type {\n",
       "        vertical-align: middle;\n",
       "    }\n",
       "\n",
       "    .dataframe tbody tr th {\n",
       "        vertical-align: top;\n",
       "    }\n",
       "\n",
       "    .dataframe thead th {\n",
       "        text-align: right;\n",
       "    }\n",
       "</style>\n",
       "<table border=\"1\" class=\"dataframe\">\n",
       "  <thead>\n",
       "    <tr style=\"text-align: right;\">\n",
       "      <th></th>\n",
       "      <th>company</th>\n",
       "      <th>full_text</th>\n",
       "      <th>paragraphs</th>\n",
       "      <th>label</th>\n",
       "    </tr>\n",
       "  </thead>\n",
       "  <tbody>\n",
       "    <tr>\n",
       "      <th>202</th>\n",
       "      <td>crono</td>\n",
       "      <td>daily news (south africa)\\n\\n                 ...</td>\n",
       "      <td>cronos: guillermo del toro's surreal directori...</td>\n",
       "      <td>NaN</td>\n",
       "    </tr>\n",
       "    <tr>\n",
       "      <th>1445</th>\n",
       "      <td>motopia</td>\n",
       "      <td>rwe company announcements\\n\\n                 ...</td>\n",
       "      <td>* motopia ltd has announced the appointment o...</td>\n",
       "      <td>NaN</td>\n",
       "    </tr>\n",
       "    <tr>\n",
       "      <th>1505</th>\n",
       "      <td>upsnap</td>\n",
       "      <td>market news publishing\\n\\n                    ...</td>\n",
       "      <td>upsnap inc. (\"upsnap\" or the \"company\"), is pl...</td>\n",
       "      <td>NaN</td>\n",
       "    </tr>\n",
       "    <tr>\n",
       "      <th>1891</th>\n",
       "      <td>solarreserve</td>\n",
       "      <td>mining magazine\\n\\n                           ...</td>\n",
       "      <td>link explains: \"the energy-supply agreement ca...</td>\n",
       "      <td>NaN</td>\n",
       "    </tr>\n",
       "    <tr>\n",
       "      <th>1893</th>\n",
       "      <td>solarreserve</td>\n",
       "      <td>fierceenergy\\n\\n                             m...</td>\n",
       "      <td>\"we are pleased to continue our efforts to bri...</td>\n",
       "      <td>NaN</td>\n",
       "    </tr>\n",
       "  </tbody>\n",
       "</table>\n",
       "</div>"
      ],
      "text/plain": [
       "           company                                          full_text  \\\n",
       "202          crono  daily news (south africa)\\n\\n                 ...   \n",
       "1445       motopia  rwe company announcements\\n\\n                 ...   \n",
       "1505        upsnap  market news publishing\\n\\n                    ...   \n",
       "1891  solarreserve  mining magazine\\n\\n                           ...   \n",
       "1893  solarreserve  fierceenergy\\n\\n                             m...   \n",
       "\n",
       "                                             paragraphs  label  \n",
       "202   cronos: guillermo del toro's surreal directori...    NaN  \n",
       "1445   * motopia ltd has announced the appointment o...    NaN  \n",
       "1505  upsnap inc. (\"upsnap\" or the \"company\"), is pl...    NaN  \n",
       "1891  link explains: \"the energy-supply agreement ca...    NaN  \n",
       "1893  \"we are pleased to continue our efforts to bri...    NaN  "
      ]
     },
     "execution_count": 44,
     "metadata": {},
     "output_type": "execute_result"
    }
   ],
   "source": [
    "sample = articles_df[articles_df.index.isin(sample_ids)]\n",
    "print(len(sample[sample.index.isin(sample_ids)]))\n",
    "if not os.path.exists(os.path.join(tempdir, 'temp_data')):\n",
    "    os.makedirs(os.path.join(tempdir, 'temp_data'))\n",
    "sample.to_csv(path_or_buf=os.path.join(os.getcwd(), 'temp_data', 'sample4label.csv'), columns=[\"company\", \"paragraphs\", \"label\"], sep=\";\",index=True, header=True)\n",
    "sample.head()"
   ]
  },
  {
   "cell_type": "markdown",
   "metadata": {},
   "source": [
    "## Take your time to label data... "
   ]
  },
  {
   "cell_type": "markdown",
   "metadata": {},
   "source": [
    "# Load the labelled sample \n",
    "The ids of the labelled sample is matched to the ones from the dataset"
   ]
  },
  {
   "cell_type": "code",
   "execution_count": 26,
   "metadata": {},
   "outputs": [
    {
     "name": "stdout",
     "output_type": "stream",
     "text": [
      "110\n",
      "[5739, 949, 4425, 44820, 27899, 15983, 45289, 44438, 52763, 29693, 21203, 18728, 56765, 17490, 15750, 46752, 57532, 59063, 58417, 53887, 53811, 53189, 53039, 58913, 52134, 50769, 50755, 57612, 49925, 49813, 49812, 59025, 49811, 49205, 59321, 49170, 53938, 50198, 53999, 54637, 57648, 57672, 57388, 57190, 57050, 56856, 58155, 58280, 56052, 56051, 56050, 58300, 56049, 48174, 55875, 55102, 55069, 58416, 55036, 54372, 55876, 44686, 45365, 19863, 19671, 17916, 17915, 17889, 17848, 17653, 14639, 12766, 19957, 12620, 9962, 9503, 9502, 8868, 8830, 7904, 6222, 4722, 1951, 12202, 23894, 23930, 26410, 45197, 59441, 44159, 43445, 42518, 42061, 40398, 40397, 40002, 36959, 36895, 32870, 30814, 30224, 29501, 29245, 29244, 28891, 28773, 27145, 26604, 45758, 59526]\n"
     ]
    }
   ],
   "source": [
    "articles_df1 = articles_df.copy()\n",
    "\n",
    "sample_labelled_df = pd.read_csv(\n",
    "    filepath_or_buffer=os.path.join(tempdir, 'temp_data', 'sample4label_labelled.csv'), \n",
    "    sep=\";\", index_col=0)\n",
    "\n",
    "\n",
    "#sample_labelled_df = sample_labelled_df[sample_labelled_df.index.isin(sample_ids)]\n",
    "sample_labelled_df.reset_index(inplace=True)\n",
    "sample_labelled_df.set_index(keys=[\"paragraphs\"], inplace=True)\n",
    "articles_df1.set_index(keys=[\"paragraphs\"], inplace=True)\n",
    "articles_df1.update(sample_labelled_df[\"label\"])\n",
    "articles_df1.reset_index(inplace=True)\n",
    "sample_labelled_df = articles_df1[~articles_df1[\"label\"].isnull()].sort_values(by=\"label\")\n",
    "print(len(sample_labelled_df))\n",
    "#print(list(sample_labelled_df.index))"
   ]
  },
  {
   "cell_type": "code",
   "execution_count": 25,
   "metadata": {},
   "outputs": [
    {
     "data": {
      "text/html": [
       "<div>\n",
       "<style scoped>\n",
       "    .dataframe tbody tr th:only-of-type {\n",
       "        vertical-align: middle;\n",
       "    }\n",
       "\n",
       "    .dataframe tbody tr th {\n",
       "        vertical-align: top;\n",
       "    }\n",
       "\n",
       "    .dataframe thead th {\n",
       "        text-align: right;\n",
       "    }\n",
       "</style>\n",
       "<table border=\"1\" class=\"dataframe\">\n",
       "  <thead>\n",
       "    <tr style=\"text-align: right;\">\n",
       "      <th></th>\n",
       "      <th>paragraphs</th>\n",
       "      <th>company</th>\n",
       "      <th>full_text</th>\n",
       "      <th>label</th>\n",
       "    </tr>\n",
       "  </thead>\n",
       "  <tbody>\n",
       "    <tr>\n",
       "      <th>5739</th>\n",
       "      <td>the \"protection fee\" demanded bitcoin payments...</td>\n",
       "      <td>cloudflare</td>\n",
       "      <td>sc magazine (us)\\n\\n                          ...</td>\n",
       "      <td>N</td>\n",
       "    </tr>\n",
       "    <tr>\n",
       "      <th>949</th>\n",
       "      <td>\"we have seen tremendous growth in our m&amp;a bus...</td>\n",
       "      <td>fleetmatics</td>\n",
       "      <td>pehub\\n\\n                     september 6, 201...</td>\n",
       "      <td>P</td>\n",
       "    </tr>\n",
       "    <tr>\n",
       "      <th>4425</th>\n",
       "      <td>devops automates processes between development...</td>\n",
       "      <td>virtustream</td>\n",
       "      <td>plus company updates(pcu)\\n\\n                 ...</td>\n",
       "      <td>P</td>\n",
       "    </tr>\n",
       "    <tr>\n",
       "      <th>44820</th>\n",
       "      <td>cardiokinetix has raised us $44 million in a ...</td>\n",
       "      <td>cardiokinetix</td>\n",
       "      <td>cardiovascular device business\\n\\n            ...</td>\n",
       "      <td>P</td>\n",
       "    </tr>\n",
       "    <tr>\n",
       "      <th>27899</th>\n",
       "      <td>the biggest change is found in the browser's...</td>\n",
       "      <td>ghostery</td>\n",
       "      <td>indian technology news\\n\\n                    ...</td>\n",
       "      <td>P</td>\n",
       "    </tr>\n",
       "  </tbody>\n",
       "</table>\n",
       "</div>"
      ],
      "text/plain": [
       "                                              paragraphs        company  \\\n",
       "5739   the \"protection fee\" demanded bitcoin payments...     cloudflare   \n",
       "949    \"we have seen tremendous growth in our m&a bus...    fleetmatics   \n",
       "4425   devops automates processes between development...    virtustream   \n",
       "44820   cardiokinetix has raised us $44 million in a ...  cardiokinetix   \n",
       "27899    the biggest change is found in the browser's...       ghostery   \n",
       "\n",
       "                                               full_text label  \n",
       "5739   sc magazine (us)\\n\\n                          ...     N  \n",
       "949    pehub\\n\\n                     september 6, 201...     P  \n",
       "4425   plus company updates(pcu)\\n\\n                 ...     P  \n",
       "44820  cardiovascular device business\\n\\n            ...     P  \n",
       "27899  indian technology news\\n\\n                    ...     P  "
      ]
     },
     "execution_count": 25,
     "metadata": {},
     "output_type": "execute_result"
    }
   ],
   "source": [
    "sample_labelled_df.head()"
   ]
  },
  {
   "cell_type": "code",
   "execution_count": 13,
   "metadata": {},
   "outputs": [
    {
     "name": "stdout",
     "output_type": "stream",
     "text": [
      "0 duplicated articles in the sample\n",
      "110\n"
     ]
    },
    {
     "name": "stderr",
     "output_type": "stream",
     "text": [
      "/home/tie-server/anaconda3/lib/python3.6/site-packages/ipykernel_launcher.py:2: UserWarning: Boolean Series key will be reindexed to match DataFrame index.\n",
      "  \n"
     ]
    }
   ],
   "source": [
    "#print(json.dumps(list(articles_df1[articles_df1[\"label\"] == \"P\"][\"content\"]), indent=4))\n",
    "print(str(len(articles_df1[(~articles_df1[\"label\"].isnull()) & (articles_df.duplicated(subset='full_text', keep=False))].sort_values(by=\"label\"))) + \" duplicated articles in the sample\")\n",
    "\n",
    "print(len(sample_labelled_df))"
   ]
  },
  {
   "cell_type": "markdown",
   "metadata": {},
   "source": [
    "# Print out the questionable articles"
   ]
  },
  {
   "cell_type": "code",
   "execution_count": 14,
   "metadata": {},
   "outputs": [],
   "source": [
    "#print(json.dumps(list(sample_labelled_df[sample_labelled_df[\"label\"] == \"Q\"][\"content\"]), sort_keys=True, indent=4))"
   ]
  },
  {
   "cell_type": "markdown",
   "metadata": {},
   "source": [
    "# Get rid of questionable articles and convert labels to meaningful"
   ]
  },
  {
   "cell_type": "code",
   "execution_count": 15,
   "metadata": {},
   "outputs": [
    {
     "data": {
      "text/plain": [
       "98"
      ]
     },
     "execution_count": 15,
     "metadata": {},
     "output_type": "execute_result"
    }
   ],
   "source": [
    "sample_labelled_df = sample_labelled_df[~(sample_labelled_df[\"label\"] == \"Q\")]\n",
    "sample_labelled_df.replace(to_replace={\"label\": \"N\"}, value=\"negative\", inplace=True)\n",
    "sample_labelled_df.replace(to_replace={\"label\": \"X\"}, value=\"neutral\", inplace=True)\n",
    "sample_labelled_df.replace(to_replace={\"label\": \"P\"}, value=\"positive\", inplace=True)\n",
    "\n",
    "len(sample_labelled_df)\n"
   ]
  },
  {
   "cell_type": "markdown",
   "metadata": {},
   "source": [
    "# Save the sample"
   ]
  },
  {
   "cell_type": "code",
   "execution_count": 18,
   "metadata": {},
   "outputs": [],
   "source": [
    "if not os.path.exists(os.path.join(basedir, 'temp_data')):\n",
    "    os.makedirs(os.path.join(basedir, 'temp_data'))\n",
    "with open(os.path.join(basedir, 'temp_data', 'sample_labelled_df'), 'wb') as fp:\n",
    "    pickle.dump(sample_labelled_df, fp)"
   ]
  },
  {
   "cell_type": "code",
   "execution_count": null,
   "metadata": {},
   "outputs": [],
   "source": []
  }
 ],
 "metadata": {
  "kernelspec": {
   "display_name": "Python 3",
   "language": "python",
   "name": "python3"
  },
  "language_info": {
   "codemirror_mode": {
    "name": "ipython",
    "version": 3
   },
   "file_extension": ".py",
   "mimetype": "text/x-python",
   "name": "python",
   "nbconvert_exporter": "python",
   "pygments_lexer": "ipython3",
   "version": "3.6.5"
  }
 },
 "nbformat": 4,
 "nbformat_minor": 2
}
