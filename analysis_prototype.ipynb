{
 "cells": [
  {
   "cell_type": "code",
   "execution_count": 1,
   "metadata": {},
   "outputs": [
    {
     "name": "stdout",
     "output_type": "stream",
     "text": [
      "[nltk_data] Downloading package averaged_perceptron_tagger to\n",
      "[nltk_data]     /home/tie-server/nltk_data...\n",
      "[nltk_data]   Package averaged_perceptron_tagger is already up-to-\n",
      "[nltk_data]       date!\n",
      "[nltk_data] Downloading package punkt to /home/tie-server/nltk_data...\n",
      "[nltk_data]   Package punkt is already up-to-date!\n",
      "[nltk_data] Downloading package stopwords to /home/tie-\n",
      "[nltk_data]     server/nltk_data...\n",
      "[nltk_data]   Package stopwords is already up-to-date!\n"
     ]
    }
   ],
   "source": [
    "import pandas as pd\n",
    "import numpy as np\n",
    "import os\n",
    "import json\n",
    "import wordninja\n",
    "from os import listdir\n",
    "import re\n",
    "import sys\n",
    "import ast\n",
    "import pke\n",
    "import enchant\n",
    "import nltk\n",
    "from nltk.tokenize import word_tokenize, sent_tokenize\n",
    "import string\n",
    "import requests\n",
    "import pickle\n",
    "import datetime\n",
    "import ijson.backends.yajl2_cffi as ijson\n",
    "\n",
    "\n",
    "#import pycorpora\n",
    "nltk.download('averaged_perceptron_tagger')\n",
    "nltk.download('punkt')\n",
    "nltk.download('stopwords')\n",
    "d = enchant.Dict(\"en_US\") # ENGLISH Dictionary\n",
    "\n",
    "\n",
    "# CHANGE THE PATH TO A DATASET HERE\n",
    "basedir = os.path.join(os.sep, \"media\", \"tie-server\", \"DATA\", \"Jens\", \"Crunchbase\")\n"
   ]
  },
  {
   "cell_type": "code",
   "execution_count": 43,
   "metadata": {},
   "outputs": [],
   "source": [
    "with open (os.path.join(basedir, 'temp_data', 'articles'), 'rb') as fp:\n",
    "    articles = pickle.load(fp)"
   ]
  },
  {
   "cell_type": "code",
   "execution_count": 44,
   "metadata": {},
   "outputs": [],
   "source": [
    "# Convert text to lower-case and strip punctuation/symbols from words\n",
    "def normalize_text(text):\n",
    "    norm_text = text.lower()\n",
    "    # Replace breaks with spaces\n",
    "    norm_text = norm_text.replace('<br />', ' ')\n",
    "    # Pad punctuation with spaces on both sides\n",
    "    norm_text = re.sub(r\"([\\.\\\",\\(\\)!\\?;:])\", \" \\\\1 \", norm_text)\n",
    "    return norm_text"
   ]
  },
  {
   "cell_type": "code",
   "execution_count": 45,
   "metadata": {},
   "outputs": [
    {
     "data": {
      "text/html": [
       "<div>\n",
       "<style scoped>\n",
       "    .dataframe tbody tr th:only-of-type {\n",
       "        vertical-align: middle;\n",
       "    }\n",
       "\n",
       "    .dataframe tbody tr th {\n",
       "        vertical-align: top;\n",
       "    }\n",
       "\n",
       "    .dataframe thead th {\n",
       "        text-align: right;\n",
       "    }\n",
       "</style>\n",
       "<table border=\"1\" class=\"dataframe\">\n",
       "  <thead>\n",
       "    <tr style=\"text-align: right;\">\n",
       "      <th></th>\n",
       "      <th>company</th>\n",
       "      <th>content</th>\n",
       "    </tr>\n",
       "    <tr>\n",
       "      <th>ids</th>\n",
       "      <th></th>\n",
       "      <th></th>\n",
       "    </tr>\n",
       "  </thead>\n",
       "  <tbody>\n",
       "    <tr>\n",
       "      <th>crono0</th>\n",
       "      <td>crono</td>\n",
       "      <td>commission européenne/europese commissie, 1049...</td>\n",
       "    </tr>\n",
       "    <tr>\n",
       "      <th>lookback1</th>\n",
       "      <td>lookback</td>\n",
       "      <td>and, where the ladybird and famous five 'grown...</td>\n",
       "    </tr>\n",
       "    <tr>\n",
       "      <th>dealertrack2</th>\n",
       "      <td>dealertrack</td>\n",
       "      <td>the company's unique hybrid business model 'on...</td>\n",
       "    </tr>\n",
       "    <tr>\n",
       "      <th>dealertrack3</th>\n",
       "      <td>dealertrack</td>\n",
       "      <td>security and loss prevention: tow alerts, brea...</td>\n",
       "    </tr>\n",
       "    <tr>\n",
       "      <th>dealertrack4</th>\n",
       "      <td>dealertrack</td>\n",
       "      <td>the company's unique hybrid business model \"on...</td>\n",
       "    </tr>\n",
       "  </tbody>\n",
       "</table>\n",
       "</div>"
      ],
      "text/plain": [
       "                  company                                            content\n",
       "ids                                                                         \n",
       "crono0              crono  commission européenne/europese commissie, 1049...\n",
       "lookback1        lookback  and, where the ladybird and famous five 'grown...\n",
       "dealertrack2  dealertrack  the company's unique hybrid business model 'on...\n",
       "dealertrack3  dealertrack  security and loss prevention: tow alerts, brea...\n",
       "dealertrack4  dealertrack  the company's unique hybrid business model \"on..."
      ]
     },
     "execution_count": 45,
     "metadata": {},
     "output_type": "execute_result"
    }
   ],
   "source": [
    "sample = pd.DataFrame(articles)\n",
    "sample[\"content\"] = sample['content'].apply(lambda x: '\\n\\n '.join(x))\n",
    "sample.loc[:, \"ids\"] = [str(row[\"company\"] + str(i)) for i, row in temp.iterrows()] \n",
    "sample.set_index(keys=\"ids\", inplace=True)\n",
    "#print(\" \".join(temp[temp[\"company\"] == \"retailmenot\"].loc[43,\"content\"]))\n",
    "sample.head()"
   ]
  },
  {
   "cell_type": "code",
   "execution_count": null,
   "metadata": {},
   "outputs": [],
   "source": [
    "import logging\n",
    "logging.basicConfig(format='%(asctime)s : %(levelname)s : %(message)s', level=logging.INFO)\n",
    "rootLogger = logging.getLogger()\n",
    "rootLogger.setLevel(logging.INFO)"
   ]
  },
  {
   "cell_type": "code",
   "execution_count": null,
   "metadata": {},
   "outputs": [],
   "source": [
    "np.load()"
   ]
  }
 ],
 "metadata": {
  "kernelspec": {
   "display_name": "Python 3",
   "language": "python",
   "name": "python3"
  },
  "language_info": {
   "codemirror_mode": {
    "name": "ipython",
    "version": 3
   },
   "file_extension": ".py",
   "mimetype": "text/x-python",
   "name": "python",
   "nbconvert_exporter": "python",
   "pygments_lexer": "ipython3",
   "version": "3.6.5"
  }
 },
 "nbformat": 4,
 "nbformat_minor": 2
}
